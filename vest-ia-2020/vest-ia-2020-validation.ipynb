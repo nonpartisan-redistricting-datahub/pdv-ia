{
 "cells": [
  {
   "cell_type": "code",
   "execution_count": 1,
   "id": "6fd8ad1d",
   "metadata": {},
   "outputs": [],
   "source": [
    "import pandas as pd\n",
    "import geopandas as gp\n",
    "import numpy as np \n",
    "import xlrd\n",
    "import os\n",
    "import fiona\n",
    "from statistics import mean, median\n",
    "import string\n",
    "import math\n",
    "import re\n",
    "\n",
    "from shapely.geometry import Polygon\n",
    "from shapely.ops import cascaded_union"
   ]
  },
  {
   "cell_type": "markdown",
   "id": "410fc180",
   "metadata": {},
   "source": [
    "# VEST IA 2020\n",
    "\n",
    "## VEST Documentation\n",
    "\n",
    "### Sources\n",
    "\n",
    "Election results from Iowa Secretary of State (https://sos.iowa.gov/elections/results/index.html)<br>\n",
    "Precinct shapefile primarily from IA Secretary of State (https://sos.iowa.gov/shapefiles/)\n",
    "\n",
    "### Shapefiles\n",
    "\n",
    "The following counties instead use shapefiles sourced from the respective county governments: Dallas, Dubuque, Johnson, Linn, Polk, Pottawattamie, Scott, Story. The following counties were aligned with updated municipal boundaries from the U.S. Census Bureau's 2020 Redistricting Data Program: Marion, Muscatine, Woodbury. Mitchell County was edited to match the revised 2020 precinct map from the county.\n",
    "\n",
    "The following precincts were merged to match the 2020 general election results.\n",
    "\n",
    "Appanoose: Udell/Union<br>\n",
    "Black Hawk: Cedar Falls W2P2/Cedar Falls Twp<br>\n",
    "Cass: Atlantic 1/BR-GV-WS-PY, Atlantic 2/3, 4/5, BN-FR/GN-LN<br>\n",
    "Davis: Bloomfield 1/2/3<br>\n",
    "Des Moines: Burlington 1/Tama, Burlington 8/Concordia<br>\n",
    "Fremont: Hamburg/Washington, Farragut/Shenandoah1<br>\n",
    "Henry: Mt Pleasant 1/2/3/4<br>\n",
    "Howard: Cresco 1/2/3<br>\n",
    "Lee: Fort Madison 4A/4B, Keokuk 2A/2B, FCM/Harrison<br>\n",
    "Mitchell: Precinct 1/12, 3/10/11, 5/6, 7/8/9<br>\n",
    "Polk: Grimes 2/Urbandale 12<br>\n",
    "Tama: Toledo 1/2/3<br>\n",
    "\n",
    "### Races\n",
    "\n",
    "G20PRERTRU - Donald J. Trump (Republican Party)<br>\n",
    "G20PREDBID - Joseph R. Biden (Democratic Party)<br>\n",
    "G20PRELJOR - Jo Jorgensen (Libertarian Party)<br>\n",
    "G20PREGHAW - Howie Hawkins (Green Party)<br>\n",
    "G20PRECBLA - Don Blakenship (Constitution Party)<br>\n",
    "G20PREOFUE - Roque Rocky De La Fuente (Alliance Party)<br>\n",
    "G20PREOKIN - Ricki Sue King (Genealogy Know Your Family History Party)<br>\n",
    "G20PREIWES - Kanye West (Independent)<br>\n",
    "G20PREIPIE - Brock Pierce (Independent)<br>\n",
    "G20PREOWRI - Write-in Votes<br>\n",
    "<br>\n",
    "G20USSRERN - Joni Ernst (Republican Party)<br>\n",
    "G20USSDGRE - Theresa Greenfield (Democratic Party)<br>\n",
    "G20USSLSTE - Rick Stewart (Libertarian Party)<br>\n",
    "G20USSOHER - Suzanne Herzog (Independent)<br>\n",
    "G20USSOWRI - Write-in Votes<br>"
   ]
  },
  {
   "cell_type": "markdown",
   "id": "2b71dbe8",
   "metadata": {},
   "source": [
    "## Load in VEST file"
   ]
  },
  {
   "cell_type": "code",
   "execution_count": null,
   "id": "f07253bf",
   "metadata": {},
   "outputs": [],
   "source": [
    "vest_ia"
   ]
  }
 ],
 "metadata": {
  "kernelspec": {
   "display_name": "Python 3",
   "language": "python",
   "name": "python3"
  },
  "language_info": {
   "codemirror_mode": {
    "name": "ipython",
    "version": 3
   },
   "file_extension": ".py",
   "mimetype": "text/x-python",
   "name": "python",
   "nbconvert_exporter": "python",
   "pygments_lexer": "ipython3",
   "version": "3.9.4"
  }
 },
 "nbformat": 4,
 "nbformat_minor": 5
}
